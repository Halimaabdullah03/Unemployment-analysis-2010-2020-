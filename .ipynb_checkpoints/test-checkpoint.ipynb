{
 "cells": [
  {
   "cell_type": "code",
   "execution_count": null,
   "id": "ebc873b6-68d2-4ce6-a739-0196b472e4a0",
   "metadata": {},
   "outputs": [],
   "source": [
    "pip install pandas maplotlib numpy"
   ]
  },
  {
   "cell_type": "code",
   "execution_count": null,
   "id": "7d2e48ec-5013-4886-ac99-4154e643d4d2",
   "metadata": {},
   "outputs": [],
   "source": [
    "pip install  matplotlib "
   ]
  },
  {
   "cell_type": "code",
   "execution_count": null,
   "id": "b9746f34-8154-4b13-bb70-932dd1ee5eb7",
   "metadata": {},
   "outputs": [],
   "source": [
    "pip install numpy"
   ]
  },
  {
   "cell_type": "code",
   "execution_count": null,
   "id": "9a392a14-1ee2-485c-82fe-383e561182a6",
   "metadata": {},
   "outputs": [],
   "source": [
    "print(\"hello world\")"
   ]
  },
  {
   "cell_type": "code",
   "execution_count": null,
   "id": "36f1ec3a-2b70-43fa-963f-079304c95abc",
   "metadata": {},
   "outputs": [],
   "source": [
    "def greet(name):\n",
    "    return (f\"Hello {name}\")\n",
    "print(greet(\"abdi\"))"
   ]
  },
  {
   "cell_type": "code",
   "execution_count": null,
   "id": "ed1f8305-9172-495c-9eef-d74daa2634b9",
   "metadata": {},
   "outputs": [],
   "source": []
  }
 ],
 "metadata": {
  "kernelspec": {
   "display_name": "Python 3 (ipykernel)",
   "language": "python",
   "name": "python3"
  },
  "language_info": {
   "codemirror_mode": {
    "name": "ipython",
    "version": 3
   },
   "file_extension": ".py",
   "mimetype": "text/x-python",
   "name": "python",
   "nbconvert_exporter": "python",
   "pygments_lexer": "ipython3",
   "version": "3.10.12"
  }
 },
 "nbformat": 4,
 "nbformat_minor": 5
}
